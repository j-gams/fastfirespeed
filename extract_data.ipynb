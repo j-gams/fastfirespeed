{
 "cells": [
  {
   "cell_type": "code",
   "execution_count": null,
   "metadata": {},
   "outputs": [],
   "source": [
    "### BROAD OVERVIEW of DATA PIPELINE\n",
    "### we have time series spatial GOES and VIIRS data\n",
    "###     - GOES at 2km, (288/day = 12/hr = every 5m)\n",
    "###     - VIIRS at ~350\n",
    "### we have semi-stationary data as well...\n",
    "###     - Land cover -- NLCD or LANDFIRE -- at 30m, constant\n",
    "###     - Elevation SRTM at 30m\n",
    "###     - PRISM 30 yr climate at 800m, constant\n",
    "###     - PRISM normal deltas, 800m, monthly\n",
    "###     - Check notes from meeting for additional.\n",
    "\n",
    "### learn embeddings with semi-stationary data to combine with fire model\n",
    "### learn time series with GOES\n",
    "### learn downscaling model with time series data etc and one dense stationary layer\n"
   ]
  },
  {
   "cell_type": "code",
   "execution_count": null,
   "metadata": {},
   "outputs": [],
   "source": [
    "from osgeo import gdal\n",
    "###..."
   ]
  }
 ],
 "metadata": {
  "kernelspec": {
   "display_name": "d2",
   "language": "python",
   "name": "python3"
  },
  "language_info": {
   "name": "python",
   "version": "3.12.6"
  }
 },
 "nbformat": 4,
 "nbformat_minor": 2
}
